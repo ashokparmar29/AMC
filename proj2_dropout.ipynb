{
  "nbformat": 4,
  "nbformat_minor": 0,
  "metadata": {
    "colab": {
      "name": "proj2_dropout.ipynb",
      "provenance": [],
      "collapsed_sections": []
    },
    "kernelspec": {
      "name": "python3",
      "display_name": "Python 3"
    },
    "language_info": {
      "name": "python"
    }
  },
  "cells": [
    {
      "cell_type": "code",
      "metadata": {
        "id": "0DlKoS1UnQp-"
      },
      "source": [
        "from keras import models\n",
        "from keras.models import Sequential\n",
        "from keras.layers import Dense\n",
        "from keras.layers import LSTM, Input\n",
        "from keras.layers import Dropout\n",
        "from keras.layers import Conv1D, MaxPooling2D, Flatten, Conv2D, Reshape, ZeroPadding2D\n",
        "from keras.models import Model\n",
        "import numpy as np\n",
        "import matplotlib.pyplot as plt\n",
        "import pandas as pd\n",
        "import pickle\n",
        "import keras\n",
        "from keras.layers import Layer\n",
        "from keras.layers import Activation, Dense\n",
        "from keras.layers.advanced_activations import LeakyReLU"
      ],
      "execution_count": 1,
      "outputs": []
    },
    {
      "cell_type": "code",
      "metadata": {
        "colab": {
          "base_uri": "https://localhost:8080/"
        },
        "id": "sJ5WTOzancUA",
        "outputId": "31134f68-9400-40ee-ef0d-11d06e1b95d4"
      },
      "source": [
        "from google.colab import drive\n",
        "drive.mount('/content/drive')"
      ],
      "execution_count": 2,
      "outputs": [
        {
          "output_type": "stream",
          "text": [
            "Mounted at /content/drive\n"
          ],
          "name": "stdout"
        }
      ]
    },
    {
      "cell_type": "code",
      "metadata": {
        "id": "cwurRVj3pJf1"
      },
      "source": [
        "#De-Pickling Data with encoding latin1\n",
        "with open(\"/content/drive/MyDrive/Gdrive/2016.04C.multisnr.pkl\", 'rb') as f:\n",
        "    Xd = pickle.load(f, encoding='latin1')"
      ],
      "execution_count": 4,
      "outputs": []
    },
    {
      "cell_type": "code",
      "metadata": {
        "id": "P6fMT9Lxnh8g"
      },
      "source": [
        "snrs,mods = map(lambda j: sorted(list(set(map(lambda x: x[j], Xd.keys())))), [1,0])"
      ],
      "execution_count": 5,
      "outputs": []
    },
    {
      "cell_type": "code",
      "metadata": {
        "id": "ip34F84wnunT"
      },
      "source": [
        "X = []\n",
        "lbl = []\n",
        "for mod in mods:\n",
        "    for snr in snrs:\n",
        "        X.append(Xd[(mod,snr)])\n",
        "        for i in range(Xd[(mod,snr)].shape[0]):  lbl.append((mod,snr))\n",
        "X = np.vstack(X)"
      ],
      "execution_count": 6,
      "outputs": []
    },
    {
      "cell_type": "code",
      "metadata": {
        "id": "WDpplRTspsqU"
      },
      "source": [
        "np.random.seed(2016)\n",
        "n_examples = X.shape[0]\n",
        "n_train0 = int(n_examples * 0.8)\n",
        "train_idx0 = np.random.choice(range(0,n_examples), size=n_train0, replace=False)\n",
        "test_idx = list(set(range(0,n_examples))-set(train_idx0))\n",
        "X_train = X[train_idx0]\n",
        "X_test =  X[test_idx]"
      ],
      "execution_count": 7,
      "outputs": []
    },
    {
      "cell_type": "code",
      "metadata": {
        "colab": {
          "base_uri": "https://localhost:8080/"
        },
        "id": "1cCzxn0Ajm6w",
        "outputId": "ad3ab943-0b7d-486d-a035-f4e6d3b3fbf2"
      },
      "source": [
        "print(lbl[103700:103718])"
      ],
      "execution_count": null,
      "outputs": [
        {
          "output_type": "stream",
          "text": [
            "[('GFSK', 6), ('GFSK', 6), ('GFSK', 6), ('GFSK', 6), ('GFSK', 6), ('GFSK', 6), ('GFSK', 6), ('GFSK', 6), ('GFSK', 6), ('GFSK', 6), ('GFSK', 6), ('GFSK', 6), ('GFSK', 6), ('GFSK', 6), ('GFSK', 6), ('GFSK', 6), ('GFSK', 6), ('GFSK', 6)]\n"
          ],
          "name": "stdout"
        }
      ]
    },
    {
      "cell_type": "code",
      "metadata": {
        "id": "iRuklOqoYkY2"
      },
      "source": [
        "print(test_idx[:40],train_idx0[:40])\n",
        "print(X_test[25,:,:])"
      ],
      "execution_count": null,
      "outputs": []
    },
    {
      "cell_type": "code",
      "metadata": {
        "id": "dwwX1742p3RQ"
      },
      "source": [
        "n_examples2 = X_train.shape[0]\n",
        "n_train = int(n_examples2 * 0.8)\n",
        "train_idx = np.random.choice(range(0,n_examples2), size=n_train, replace=False)\n",
        "val_idx = list(set(range(0,n_examples2))-set(train_idx))\n",
        "X_train = X[train_idx]\n",
        "X_val =  X[val_idx]"
      ],
      "execution_count": 8,
      "outputs": []
    },
    {
      "cell_type": "code",
      "metadata": {
        "colab": {
          "base_uri": "https://localhost:8080/"
        },
        "id": "z3QxYWmJtYE2",
        "outputId": "6c1945e4-8acc-4491-a625-3d7a9275aa50"
      },
      "source": [
        "print(X_train.shape,X_val.shape,X_test.shape)"
      ],
      "execution_count": 9,
      "outputs": [
        {
          "output_type": "stream",
          "text": [
            "(103718, 2, 128) (25930, 2, 128) (32412, 2, 128)\n"
          ],
          "name": "stdout"
        }
      ]
    },
    {
      "cell_type": "code",
      "metadata": {
        "colab": {
          "base_uri": "https://localhost:8080/"
        },
        "id": "MCah_OU8ujkV",
        "outputId": "3a6939d1-37b3-46f9-9700-2443a1ed86f3"
      },
      "source": [
        "print(len(lbl))\n",
        "print(lbl[0])\n"
      ],
      "execution_count": null,
      "outputs": [
        {
          "output_type": "stream",
          "text": [
            "162060\n",
            "('8PSK', -20)\n"
          ],
          "name": "stdout"
        }
      ]
    },
    {
      "cell_type": "code",
      "metadata": {
        "id": "ouqA25pAvLkB"
      },
      "source": [
        "trainy = list(map(lambda x: mods.index(lbl[x][0]), train_idx))\n",
        "valy = list(map(lambda x: mods.index(lbl[x][0]), val_idx))\n",
        "testy = list(map(lambda x: mods.index(lbl[x][0]), test_idx))"
      ],
      "execution_count": 10,
      "outputs": []
    },
    {
      "cell_type": "code",
      "metadata": {
        "colab": {
          "base_uri": "https://localhost:8080/"
        },
        "id": "69IKwhGcvNuT",
        "outputId": "df789649-fe29-4936-a206-211986d98ac8"
      },
      "source": [
        "print(len(trainy))\n",
        "print(valy[9])"
      ],
      "execution_count": null,
      "outputs": [
        {
          "output_type": "stream",
          "text": [
            "103718\n",
            "0\n"
          ],
          "name": "stdout"
        }
      ]
    },
    {
      "cell_type": "code",
      "metadata": {
        "id": "sYlEX_6LuymT"
      },
      "source": [
        " from sklearn.preprocessing import OneHotEncoder\n",
        " from tensorflow.keras.utils import to_categorical"
      ],
      "execution_count": 11,
      "outputs": []
    },
    {
      "cell_type": "code",
      "metadata": {
        "id": "nprzZTx32aGv"
      },
      "source": [
        "train_Y_one_hot = to_categorical(trainy,11)\n",
        "val_Y_one_hot = to_categorical(valy,11)\n",
        "test_Y_one_hot = to_categorical(testy,11)"
      ],
      "execution_count": 12,
      "outputs": []
    },
    {
      "cell_type": "code",
      "metadata": {
        "colab": {
          "base_uri": "https://localhost:8080/"
        },
        "id": "sUl0P5z12pOA",
        "outputId": "4e123562-4439-40c9-c2dd-99302985717b"
      },
      "source": [
        "print(train_Y_one_hot[6],val_Y_one_hot[9],test_Y_one_hot[9])"
      ],
      "execution_count": 13,
      "outputs": [
        {
          "output_type": "stream",
          "text": [
            "[1. 0. 0. 0. 0. 0. 0. 0. 0. 0. 0.] [1. 0. 0. 0. 0. 0. 0. 0. 0. 0. 0.] [1. 0. 0. 0. 0. 0. 0. 0. 0. 0. 0.]\n"
          ],
          "name": "stdout"
        }
      ]
    },
    {
      "cell_type": "code",
      "metadata": {
        "colab": {
          "base_uri": "https://localhost:8080/"
        },
        "id": "XcxM_vT-aJyO",
        "outputId": "d8e611da-7be2-4943-a84c-9dd75a72af77"
      },
      "source": [
        "print(test_Y_one_hot[32400:])"
      ],
      "execution_count": 14,
      "outputs": [
        {
          "output_type": "stream",
          "text": [
            "[[0. 0. 0. 0. 0. 0. 0. 0. 1. 0. 0.]\n",
            " [0. 0. 0. 0. 0. 0. 0. 0. 1. 0. 0.]\n",
            " [0. 0. 0. 0. 0. 0. 0. 0. 1. 0. 0.]\n",
            " [0. 0. 0. 0. 0. 0. 0. 0. 1. 0. 0.]\n",
            " [0. 0. 0. 0. 0. 0. 0. 0. 1. 0. 0.]\n",
            " [0. 0. 0. 0. 0. 0. 0. 0. 1. 0. 0.]\n",
            " [0. 0. 0. 0. 0. 0. 0. 0. 1. 0. 0.]\n",
            " [0. 0. 0. 0. 0. 0. 0. 0. 1. 0. 0.]\n",
            " [0. 0. 0. 0. 0. 0. 0. 0. 1. 0. 0.]\n",
            " [0. 0. 0. 0. 0. 0. 0. 0. 1. 0. 0.]\n",
            " [0. 0. 0. 0. 0. 0. 0. 0. 1. 0. 0.]\n",
            " [0. 0. 0. 0. 0. 0. 0. 0. 1. 0. 0.]]\n"
          ],
          "name": "stdout"
        }
      ]
    },
    {
      "cell_type": "code",
      "metadata": {
        "colab": {
          "base_uri": "https://localhost:8080/"
        },
        "id": "WtwxyOHO32Wg",
        "outputId": "a861e0de-a236-4f84-fc39-223d465eb25b"
      },
      "source": [
        "#model\n",
        "batch_size = 64\n",
        "epochs = 100\n",
        "\n",
        "in_shp = list(X_train.shape[1:])\n",
        "print (X_train.shape, in_shp)\n",
        "classes = mods\n",
        "\n",
        "#dr = 0.5 \n",
        "# Reshape [N,2,128] to [N,1,2,128] on input\n",
        "#input_x = Input(shape=(1,2,128))\n",
        "#input_x_padding = ZeroPadding2D((0, 2), data_format=\"channels_first\")(input_x)\n",
        "\n",
        "radio_model = Sequential()\n",
        "radio_model.add(Conv2D(32, kernel_size=(1, 2),activation='linear',input_shape=(1,2,128),padding='same'))\n",
        "radio_model.add(LeakyReLU(alpha=0.1))\n",
        "radio_model.add(MaxPooling2D((1, 2),padding='same'))\n",
        "radio_model.add(Dropout(0.25))\n",
        "radio_model.add(Conv2D(64, (1, 2), activation='linear',padding='same'))\n",
        "radio_model.add(LeakyReLU(alpha=0.1))\n",
        "radio_model.add(MaxPooling2D(pool_size=(1, 2),padding='same'))\n",
        "radio_model.add(Dropout(0.25))\n",
        "radio_model.add(Conv2D(128, (1, 2), activation='linear',padding='same'))\n",
        "radio_model.add(LeakyReLU(alpha=0.1))                  \n",
        "radio_model.add(MaxPooling2D(pool_size=(1, 2),padding='same'))\n",
        "radio_model.add(Dropout(0.25))\n",
        "radio_model.add(Flatten())\n",
        "radio_model.add(Dense(128, activation='linear'))\n",
        "radio_model.add(LeakyReLU(alpha=0.1))\n",
        "radio_model.add(Dropout(0.25))                  \n",
        "radio_model.add(Dense(11, activation='softmax'))\n"
      ],
      "execution_count": 15,
      "outputs": [
        {
          "output_type": "stream",
          "text": [
            "(103718, 2, 128) [2, 128]\n"
          ],
          "name": "stdout"
        }
      ]
    },
    {
      "cell_type": "code",
      "metadata": {
        "id": "h3OKeuDCUxAh"
      },
      "source": [
        "radio_model.compile(loss=keras.losses.categorical_crossentropy, optimizer=keras.optimizers.Adam(),metrics=['accuracy'])"
      ],
      "execution_count": 16,
      "outputs": []
    },
    {
      "cell_type": "code",
      "metadata": {
        "colab": {
          "base_uri": "https://localhost:8080/"
        },
        "id": "MjCPamffU9jP",
        "outputId": "b7df0df0-cda8-4fea-8914-98c8772f8ade"
      },
      "source": [
        "radio_model.summary()"
      ],
      "execution_count": 17,
      "outputs": [
        {
          "output_type": "stream",
          "text": [
            "Model: \"sequential\"\n",
            "_________________________________________________________________\n",
            "Layer (type)                 Output Shape              Param #   \n",
            "=================================================================\n",
            "conv2d (Conv2D)              (None, 1, 2, 32)          8224      \n",
            "_________________________________________________________________\n",
            "leaky_re_lu (LeakyReLU)      (None, 1, 2, 32)          0         \n",
            "_________________________________________________________________\n",
            "max_pooling2d (MaxPooling2D) (None, 1, 1, 32)          0         \n",
            "_________________________________________________________________\n",
            "dropout (Dropout)            (None, 1, 1, 32)          0         \n",
            "_________________________________________________________________\n",
            "conv2d_1 (Conv2D)            (None, 1, 1, 64)          4160      \n",
            "_________________________________________________________________\n",
            "leaky_re_lu_1 (LeakyReLU)    (None, 1, 1, 64)          0         \n",
            "_________________________________________________________________\n",
            "max_pooling2d_1 (MaxPooling2 (None, 1, 1, 64)          0         \n",
            "_________________________________________________________________\n",
            "dropout_1 (Dropout)          (None, 1, 1, 64)          0         \n",
            "_________________________________________________________________\n",
            "conv2d_2 (Conv2D)            (None, 1, 1, 128)         16512     \n",
            "_________________________________________________________________\n",
            "leaky_re_lu_2 (LeakyReLU)    (None, 1, 1, 128)         0         \n",
            "_________________________________________________________________\n",
            "max_pooling2d_2 (MaxPooling2 (None, 1, 1, 128)         0         \n",
            "_________________________________________________________________\n",
            "dropout_2 (Dropout)          (None, 1, 1, 128)         0         \n",
            "_________________________________________________________________\n",
            "flatten (Flatten)            (None, 128)               0         \n",
            "_________________________________________________________________\n",
            "dense (Dense)                (None, 128)               16512     \n",
            "_________________________________________________________________\n",
            "leaky_re_lu_3 (LeakyReLU)    (None, 128)               0         \n",
            "_________________________________________________________________\n",
            "dropout_3 (Dropout)          (None, 128)               0         \n",
            "_________________________________________________________________\n",
            "dense_1 (Dense)              (None, 11)                1419      \n",
            "=================================================================\n",
            "Total params: 46,827\n",
            "Trainable params: 46,827\n",
            "Non-trainable params: 0\n",
            "_________________________________________________________________\n"
          ],
          "name": "stdout"
        }
      ]
    },
    {
      "cell_type": "code",
      "metadata": {
        "colab": {
          "base_uri": "https://localhost:8080/"
        },
        "id": "FJiVFSalVFG4",
        "outputId": "2743cd37-3677-4604-9ab5-947ded4bff2b"
      },
      "source": [
        "X_train = np.reshape(X_train, (-1,1,2,128))\n",
        "X_test = np.reshape(X_test, (-1,1,2,128))\n",
        "X_val = np.reshape(X_val, (-1,1,2,128))\n",
        "radio_train = radio_model.fit(X_train, train_Y_one_hot, batch_size=batch_size,epochs=epochs,verbose=1,validation_data=(X_val, val_Y_one_hot))"
      ],
      "execution_count": 18,
      "outputs": [
        {
          "output_type": "stream",
          "text": [
            "Epoch 1/100\n",
            "1621/1621 [==============================] - 23s 5ms/step - loss: 2.4681 - accuracy: 0.2140 - val_loss: 1.4389 - val_accuracy: 0.4452\n",
            "Epoch 2/100\n",
            "1621/1621 [==============================] - 7s 4ms/step - loss: 1.4772 - accuracy: 0.4312 - val_loss: 1.2552 - val_accuracy: 0.5245\n",
            "Epoch 3/100\n",
            "1621/1621 [==============================] - 7s 4ms/step - loss: 1.3361 - accuracy: 0.4972 - val_loss: 1.1630 - val_accuracy: 0.5545\n",
            "Epoch 4/100\n",
            "1621/1621 [==============================] - 7s 4ms/step - loss: 1.2600 - accuracy: 0.5217 - val_loss: 1.1155 - val_accuracy: 0.5609\n",
            "Epoch 5/100\n",
            "1621/1621 [==============================] - 7s 4ms/step - loss: 1.2129 - accuracy: 0.5389 - val_loss: 1.0716 - val_accuracy: 0.5755\n",
            "Epoch 6/100\n",
            "1621/1621 [==============================] - 7s 4ms/step - loss: 1.1754 - accuracy: 0.5469 - val_loss: 1.0364 - val_accuracy: 0.5889\n",
            "Epoch 7/100\n",
            "1621/1621 [==============================] - 7s 4ms/step - loss: 1.1606 - accuracy: 0.5545 - val_loss: 1.0366 - val_accuracy: 0.5857\n",
            "Epoch 8/100\n",
            "1621/1621 [==============================] - 7s 4ms/step - loss: 1.1457 - accuracy: 0.5586 - val_loss: 1.0251 - val_accuracy: 0.5900\n",
            "Epoch 9/100\n",
            "1621/1621 [==============================] - 7s 4ms/step - loss: 1.1293 - accuracy: 0.5646 - val_loss: 1.0125 - val_accuracy: 0.5952\n",
            "Epoch 10/100\n",
            "1621/1621 [==============================] - 7s 4ms/step - loss: 1.1254 - accuracy: 0.5667 - val_loss: 0.9986 - val_accuracy: 0.5993\n",
            "Epoch 11/100\n",
            "1621/1621 [==============================] - 7s 4ms/step - loss: 1.1171 - accuracy: 0.5683 - val_loss: 1.0047 - val_accuracy: 0.6059\n",
            "Epoch 12/100\n",
            "1621/1621 [==============================] - 7s 4ms/step - loss: 1.1154 - accuracy: 0.5696 - val_loss: 0.9918 - val_accuracy: 0.6029\n",
            "Epoch 13/100\n",
            "1621/1621 [==============================] - 7s 4ms/step - loss: 1.1142 - accuracy: 0.5720 - val_loss: 0.9840 - val_accuracy: 0.6076\n",
            "Epoch 14/100\n",
            "1621/1621 [==============================] - 7s 4ms/step - loss: 1.0997 - accuracy: 0.5761 - val_loss: 0.9849 - val_accuracy: 0.6018\n",
            "Epoch 15/100\n",
            "1621/1621 [==============================] - 7s 4ms/step - loss: 1.0951 - accuracy: 0.5777 - val_loss: 0.9818 - val_accuracy: 0.6109\n",
            "Epoch 16/100\n",
            "1621/1621 [==============================] - 7s 4ms/step - loss: 1.0972 - accuracy: 0.5751 - val_loss: 0.9847 - val_accuracy: 0.6052\n",
            "Epoch 17/100\n",
            "1621/1621 [==============================] - 7s 4ms/step - loss: 1.0999 - accuracy: 0.5763 - val_loss: 0.9873 - val_accuracy: 0.6087\n",
            "Epoch 18/100\n",
            "1621/1621 [==============================] - 7s 4ms/step - loss: 1.0944 - accuracy: 0.5761 - val_loss: 1.0037 - val_accuracy: 0.5988\n",
            "Epoch 19/100\n",
            "1621/1621 [==============================] - 7s 4ms/step - loss: 1.0904 - accuracy: 0.5793 - val_loss: 0.9804 - val_accuracy: 0.6099\n",
            "Epoch 20/100\n",
            "1621/1621 [==============================] - 7s 4ms/step - loss: 1.0879 - accuracy: 0.5806 - val_loss: 0.9951 - val_accuracy: 0.6014\n",
            "Epoch 21/100\n",
            "1621/1621 [==============================] - 7s 4ms/step - loss: 1.0872 - accuracy: 0.5800 - val_loss: 0.9804 - val_accuracy: 0.6081\n",
            "Epoch 22/100\n",
            "1621/1621 [==============================] - 7s 4ms/step - loss: 1.0830 - accuracy: 0.5843 - val_loss: 0.9771 - val_accuracy: 0.6073\n",
            "Epoch 23/100\n",
            "1621/1621 [==============================] - 7s 4ms/step - loss: 1.0869 - accuracy: 0.5785 - val_loss: 0.9792 - val_accuracy: 0.6121\n",
            "Epoch 24/100\n",
            "1621/1621 [==============================] - 7s 4ms/step - loss: 1.0831 - accuracy: 0.5836 - val_loss: 0.9648 - val_accuracy: 0.6128\n",
            "Epoch 25/100\n",
            "1621/1621 [==============================] - 7s 4ms/step - loss: 1.0793 - accuracy: 0.5841 - val_loss: 0.9811 - val_accuracy: 0.6051\n",
            "Epoch 26/100\n",
            "1621/1621 [==============================] - 7s 4ms/step - loss: 1.0749 - accuracy: 0.5859 - val_loss: 0.9663 - val_accuracy: 0.6127\n",
            "Epoch 27/100\n",
            "1621/1621 [==============================] - 7s 4ms/step - loss: 1.0746 - accuracy: 0.5850 - val_loss: 0.9720 - val_accuracy: 0.6114\n",
            "Epoch 28/100\n",
            "1621/1621 [==============================] - 7s 4ms/step - loss: 1.0726 - accuracy: 0.5885 - val_loss: 0.9584 - val_accuracy: 0.6125\n",
            "Epoch 29/100\n",
            "1621/1621 [==============================] - 7s 4ms/step - loss: 1.0733 - accuracy: 0.5873 - val_loss: 0.9561 - val_accuracy: 0.6149\n",
            "Epoch 30/100\n",
            "1621/1621 [==============================] - 7s 4ms/step - loss: 1.0655 - accuracy: 0.5887 - val_loss: 0.9545 - val_accuracy: 0.6135\n",
            "Epoch 31/100\n",
            "1621/1621 [==============================] - 7s 4ms/step - loss: 1.0604 - accuracy: 0.5902 - val_loss: 0.9490 - val_accuracy: 0.6185\n",
            "Epoch 32/100\n",
            "1621/1621 [==============================] - 7s 4ms/step - loss: 1.0642 - accuracy: 0.5905 - val_loss: 0.9410 - val_accuracy: 0.6207\n",
            "Epoch 33/100\n",
            "1621/1621 [==============================] - 7s 4ms/step - loss: 1.0584 - accuracy: 0.5935 - val_loss: 0.9413 - val_accuracy: 0.6212\n",
            "Epoch 34/100\n",
            "1621/1621 [==============================] - 7s 4ms/step - loss: 1.0518 - accuracy: 0.5936 - val_loss: 0.9415 - val_accuracy: 0.6172\n",
            "Epoch 35/100\n",
            "1621/1621 [==============================] - 7s 5ms/step - loss: 1.0511 - accuracy: 0.5933 - val_loss: 0.9412 - val_accuracy: 0.6182\n",
            "Epoch 36/100\n",
            "1621/1621 [==============================] - 7s 4ms/step - loss: 1.0497 - accuracy: 0.5994 - val_loss: 0.9659 - val_accuracy: 0.6181\n",
            "Epoch 37/100\n",
            "1621/1621 [==============================] - 7s 4ms/step - loss: 1.0489 - accuracy: 0.5944 - val_loss: 0.9425 - val_accuracy: 0.6259\n",
            "Epoch 38/100\n",
            "1621/1621 [==============================] - 7s 4ms/step - loss: 1.0495 - accuracy: 0.5989 - val_loss: 0.9397 - val_accuracy: 0.6280\n",
            "Epoch 39/100\n",
            "1621/1621 [==============================] - 7s 5ms/step - loss: 1.0485 - accuracy: 0.5960 - val_loss: 0.9344 - val_accuracy: 0.6283\n",
            "Epoch 40/100\n",
            "1621/1621 [==============================] - 7s 4ms/step - loss: 1.0428 - accuracy: 0.5995 - val_loss: 0.9376 - val_accuracy: 0.6277\n",
            "Epoch 41/100\n",
            "1621/1621 [==============================] - 7s 4ms/step - loss: 1.0539 - accuracy: 0.5944 - val_loss: 0.9430 - val_accuracy: 0.6225\n",
            "Epoch 42/100\n",
            "1621/1621 [==============================] - 7s 4ms/step - loss: 1.0411 - accuracy: 0.6017 - val_loss: 0.9503 - val_accuracy: 0.6259\n",
            "Epoch 43/100\n",
            "1621/1621 [==============================] - 7s 4ms/step - loss: 1.0416 - accuracy: 0.6014 - val_loss: 0.9536 - val_accuracy: 0.6197\n",
            "Epoch 44/100\n",
            "1621/1621 [==============================] - 7s 4ms/step - loss: 1.0423 - accuracy: 0.6018 - val_loss: 0.9455 - val_accuracy: 0.6257\n",
            "Epoch 45/100\n",
            "1621/1621 [==============================] - 7s 4ms/step - loss: 1.0373 - accuracy: 0.5993 - val_loss: 0.9296 - val_accuracy: 0.6342\n",
            "Epoch 46/100\n",
            "1621/1621 [==============================] - 7s 4ms/step - loss: 1.0418 - accuracy: 0.6014 - val_loss: 0.9429 - val_accuracy: 0.6214\n",
            "Epoch 47/100\n",
            "1621/1621 [==============================] - 7s 4ms/step - loss: 1.0397 - accuracy: 0.6012 - val_loss: 0.9518 - val_accuracy: 0.6153\n",
            "Epoch 48/100\n",
            "1621/1621 [==============================] - 7s 5ms/step - loss: 1.0337 - accuracy: 0.6022 - val_loss: 0.9222 - val_accuracy: 0.6444\n",
            "Epoch 49/100\n",
            "1621/1621 [==============================] - 7s 4ms/step - loss: 1.0430 - accuracy: 0.6022 - val_loss: 0.9427 - val_accuracy: 0.6252\n",
            "Epoch 50/100\n",
            "1621/1621 [==============================] - 7s 5ms/step - loss: 1.0361 - accuracy: 0.6037 - val_loss: 0.9586 - val_accuracy: 0.6116\n",
            "Epoch 51/100\n",
            "1621/1621 [==============================] - 7s 5ms/step - loss: 1.0395 - accuracy: 0.6030 - val_loss: 0.9383 - val_accuracy: 0.6299\n",
            "Epoch 52/100\n",
            "1621/1621 [==============================] - 7s 4ms/step - loss: 1.0422 - accuracy: 0.6036 - val_loss: 0.9257 - val_accuracy: 0.6366\n",
            "Epoch 53/100\n",
            "1621/1621 [==============================] - 7s 5ms/step - loss: 1.0381 - accuracy: 0.6030 - val_loss: 0.9262 - val_accuracy: 0.6335\n",
            "Epoch 54/100\n",
            "1621/1621 [==============================] - 7s 5ms/step - loss: 1.0325 - accuracy: 0.6080 - val_loss: 0.9504 - val_accuracy: 0.6203\n",
            "Epoch 55/100\n",
            "1621/1621 [==============================] - 7s 5ms/step - loss: 1.0292 - accuracy: 0.6060 - val_loss: 0.9358 - val_accuracy: 0.6295\n",
            "Epoch 56/100\n",
            "1621/1621 [==============================] - 7s 4ms/step - loss: 1.0325 - accuracy: 0.6036 - val_loss: 0.9364 - val_accuracy: 0.6219\n",
            "Epoch 57/100\n",
            "1621/1621 [==============================] - 7s 4ms/step - loss: 1.0272 - accuracy: 0.6073 - val_loss: 0.9251 - val_accuracy: 0.6394\n",
            "Epoch 58/100\n",
            "1621/1621 [==============================] - 7s 4ms/step - loss: 1.0343 - accuracy: 0.6046 - val_loss: 0.9316 - val_accuracy: 0.6326\n",
            "Epoch 59/100\n",
            "1621/1621 [==============================] - 7s 4ms/step - loss: 1.0314 - accuracy: 0.6075 - val_loss: 0.9186 - val_accuracy: 0.6415\n",
            "Epoch 60/100\n",
            "1621/1621 [==============================] - 7s 4ms/step - loss: 1.0284 - accuracy: 0.6051 - val_loss: 0.9189 - val_accuracy: 0.6372\n",
            "Epoch 61/100\n",
            "1621/1621 [==============================] - 7s 4ms/step - loss: 1.0335 - accuracy: 0.6050 - val_loss: 0.9277 - val_accuracy: 0.6315\n",
            "Epoch 62/100\n",
            "1621/1621 [==============================] - 7s 4ms/step - loss: 1.0361 - accuracy: 0.6069 - val_loss: 0.9329 - val_accuracy: 0.6373\n",
            "Epoch 63/100\n",
            "1621/1621 [==============================] - 7s 4ms/step - loss: 1.0343 - accuracy: 0.6040 - val_loss: 0.9238 - val_accuracy: 0.6346\n",
            "Epoch 64/100\n",
            "1621/1621 [==============================] - 7s 4ms/step - loss: 1.0319 - accuracy: 0.6073 - val_loss: 0.9472 - val_accuracy: 0.6166\n",
            "Epoch 65/100\n",
            "1621/1621 [==============================] - 7s 4ms/step - loss: 1.0277 - accuracy: 0.6075 - val_loss: 0.9460 - val_accuracy: 0.6203\n",
            "Epoch 66/100\n",
            "1621/1621 [==============================] - 7s 4ms/step - loss: 1.0299 - accuracy: 0.6054 - val_loss: 0.9206 - val_accuracy: 0.6381\n",
            "Epoch 67/100\n",
            "1621/1621 [==============================] - 7s 4ms/step - loss: 1.0418 - accuracy: 0.6030 - val_loss: 0.9409 - val_accuracy: 0.6265\n",
            "Epoch 68/100\n",
            "1621/1621 [==============================] - 7s 5ms/step - loss: 1.0323 - accuracy: 0.6043 - val_loss: 0.9381 - val_accuracy: 0.6252\n",
            "Epoch 69/100\n",
            "1621/1621 [==============================] - 7s 5ms/step - loss: 1.0270 - accuracy: 0.6073 - val_loss: 0.9410 - val_accuracy: 0.6319\n",
            "Epoch 70/100\n",
            "1621/1621 [==============================] - 7s 5ms/step - loss: 1.0332 - accuracy: 0.6045 - val_loss: 0.9279 - val_accuracy: 0.6418\n",
            "Epoch 71/100\n",
            "1621/1621 [==============================] - 7s 4ms/step - loss: 1.0327 - accuracy: 0.6082 - val_loss: 0.9350 - val_accuracy: 0.6315\n",
            "Epoch 72/100\n",
            "1621/1621 [==============================] - 7s 4ms/step - loss: 1.0318 - accuracy: 0.6047 - val_loss: 0.9505 - val_accuracy: 0.6233\n",
            "Epoch 73/100\n",
            "1621/1621 [==============================] - 7s 4ms/step - loss: 1.0278 - accuracy: 0.6079 - val_loss: 0.9354 - val_accuracy: 0.6311\n",
            "Epoch 74/100\n",
            "1621/1621 [==============================] - 7s 4ms/step - loss: 1.0301 - accuracy: 0.6064 - val_loss: 0.9375 - val_accuracy: 0.6266\n",
            "Epoch 75/100\n",
            "1621/1621 [==============================] - 7s 4ms/step - loss: 1.0256 - accuracy: 0.6060 - val_loss: 0.9462 - val_accuracy: 0.6158\n",
            "Epoch 76/100\n",
            "1621/1621 [==============================] - 7s 5ms/step - loss: 1.0387 - accuracy: 0.6034 - val_loss: 0.9254 - val_accuracy: 0.6417\n",
            "Epoch 77/100\n",
            "1621/1621 [==============================] - 8s 5ms/step - loss: 1.0292 - accuracy: 0.6080 - val_loss: 0.9275 - val_accuracy: 0.6297\n",
            "Epoch 78/100\n",
            "1621/1621 [==============================] - 7s 5ms/step - loss: 1.0366 - accuracy: 0.6065 - val_loss: 0.9339 - val_accuracy: 0.6339\n",
            "Epoch 79/100\n",
            "1621/1621 [==============================] - 7s 5ms/step - loss: 1.0234 - accuracy: 0.6096 - val_loss: 0.9291 - val_accuracy: 0.6362\n",
            "Epoch 80/100\n",
            "1621/1621 [==============================] - 7s 5ms/step - loss: 1.0258 - accuracy: 0.6083 - val_loss: 0.9332 - val_accuracy: 0.6337\n",
            "Epoch 81/100\n",
            "1621/1621 [==============================] - 7s 5ms/step - loss: 1.0287 - accuracy: 0.6081 - val_loss: 0.9435 - val_accuracy: 0.6250\n",
            "Epoch 82/100\n",
            "1621/1621 [==============================] - 7s 4ms/step - loss: 1.0327 - accuracy: 0.6052 - val_loss: 0.9410 - val_accuracy: 0.6349\n",
            "Epoch 83/100\n",
            "1621/1621 [==============================] - 7s 4ms/step - loss: 1.0301 - accuracy: 0.6056 - val_loss: 0.9342 - val_accuracy: 0.6403\n",
            "Epoch 84/100\n",
            "1621/1621 [==============================] - 7s 4ms/step - loss: 1.0232 - accuracy: 0.6079 - val_loss: 0.9099 - val_accuracy: 0.6404\n",
            "Epoch 85/100\n",
            "1621/1621 [==============================] - 7s 4ms/step - loss: 1.0306 - accuracy: 0.6070 - val_loss: 0.9182 - val_accuracy: 0.6392\n",
            "Epoch 86/100\n",
            "1621/1621 [==============================] - 7s 4ms/step - loss: 1.0291 - accuracy: 0.6063 - val_loss: 0.9504 - val_accuracy: 0.6169\n",
            "Epoch 87/100\n",
            "1621/1621 [==============================] - 7s 5ms/step - loss: 1.0334 - accuracy: 0.6063 - val_loss: 0.9275 - val_accuracy: 0.6346\n",
            "Epoch 88/100\n",
            "1621/1621 [==============================] - 7s 4ms/step - loss: 1.0295 - accuracy: 0.6060 - val_loss: 0.9272 - val_accuracy: 0.6414\n",
            "Epoch 89/100\n",
            "1621/1621 [==============================] - 7s 4ms/step - loss: 1.0338 - accuracy: 0.6068 - val_loss: 0.9276 - val_accuracy: 0.6319\n",
            "Epoch 90/100\n",
            "1621/1621 [==============================] - 7s 5ms/step - loss: 1.0293 - accuracy: 0.6066 - val_loss: 0.9545 - val_accuracy: 0.6166\n",
            "Epoch 91/100\n",
            "1621/1621 [==============================] - 7s 4ms/step - loss: 1.0288 - accuracy: 0.6072 - val_loss: 0.9136 - val_accuracy: 0.6451\n",
            "Epoch 92/100\n",
            "1621/1621 [==============================] - 7s 4ms/step - loss: 1.0288 - accuracy: 0.6064 - val_loss: 0.9317 - val_accuracy: 0.6372\n",
            "Epoch 93/100\n",
            "1621/1621 [==============================] - 7s 5ms/step - loss: 1.0293 - accuracy: 0.6064 - val_loss: 0.9183 - val_accuracy: 0.6420\n",
            "Epoch 94/100\n",
            "1621/1621 [==============================] - 7s 5ms/step - loss: 1.0299 - accuracy: 0.6087 - val_loss: 0.9254 - val_accuracy: 0.6350\n",
            "Epoch 95/100\n",
            "1621/1621 [==============================] - 7s 4ms/step - loss: 1.0297 - accuracy: 0.6073 - val_loss: 0.9195 - val_accuracy: 0.6384\n",
            "Epoch 96/100\n",
            "1621/1621 [==============================] - 7s 4ms/step - loss: 1.0297 - accuracy: 0.6060 - val_loss: 0.9302 - val_accuracy: 0.6270\n",
            "Epoch 97/100\n",
            "1621/1621 [==============================] - 7s 4ms/step - loss: 1.0304 - accuracy: 0.6084 - val_loss: 0.9348 - val_accuracy: 0.6284\n",
            "Epoch 98/100\n",
            "1621/1621 [==============================] - 7s 4ms/step - loss: 1.0278 - accuracy: 0.6096 - val_loss: 0.9396 - val_accuracy: 0.6276\n",
            "Epoch 99/100\n",
            "1621/1621 [==============================] - 7s 4ms/step - loss: 1.0290 - accuracy: 0.6082 - val_loss: 0.9756 - val_accuracy: 0.6023\n",
            "Epoch 100/100\n",
            "1621/1621 [==============================] - 7s 5ms/step - loss: 1.0220 - accuracy: 0.6108 - val_loss: 0.9341 - val_accuracy: 0.6366\n"
          ],
          "name": "stdout"
        }
      ]
    },
    {
      "cell_type": "code",
      "metadata": {
        "colab": {
          "base_uri": "https://localhost:8080/"
        },
        "id": "Md9QheVYtn9F",
        "outputId": "240fc721-bca2-4e6c-cd2d-849715190e03"
      },
      "source": [
        "score = radio_model.evaluate(X_test, test_Y_one_hot, verbose=0, batch_size=batch_size)\n",
        "print(\"Validation Loss and Accuracy: \",score)"
      ],
      "execution_count": 19,
      "outputs": [
        {
          "output_type": "stream",
          "text": [
            "Validation Loss and Accuracy:  [4.72983455657959, 0.514531672000885]\n"
          ],
          "name": "stdout"
        }
      ]
    },
    {
      "cell_type": "code",
      "metadata": {
        "colab": {
          "base_uri": "https://localhost:8080/",
          "height": 545
        },
        "id": "_vLeYJOZvi5p",
        "outputId": "ce8577a4-ffb5-4140-bcf8-c195974f37e9"
      },
      "source": [
        "\n",
        "accuracy = radio_train.history['accuracy']\n",
        "val_accuracy = radio_train.history['val_accuracy']\n",
        "loss = radio_train.history['loss']\n",
        "val_loss = radio_train.history['val_loss']\n",
        "epochs = range(len(accuracy))\n",
        "plt.plot(epochs, accuracy, 'r', label='Training accuracy')\n",
        "plt.plot(epochs, val_accuracy, 'b', label='Validation accuracy')\n",
        "plt.title('Training and validation accuracy')\n",
        "plt.legend()\n",
        "plt.figure()\n",
        "plt.plot(epochs, loss, 'r', label='Training loss')\n",
        "plt.plot(epochs, val_loss, 'b', label='Validation loss')\n",
        "plt.title('Training and validation loss')\n",
        "plt.legend()\n",
        "plt.show()"
      ],
      "execution_count": 21,
      "outputs": [
        {
          "output_type": "display_data",
          "data": {
            "image/png": "[encoded data removed]",
            "text/plain": [
              "<Figure size 432x288 with 1 Axes>"
            ]
          },
          "metadata": {
            "tags": [],
            "needs_background": "light"
          }
        },
        {
          "output_type": "display_data",
          "data": {
            "image/png": "[encoded data removed]",
            "text/plain": [
              "<Figure size 432x288 with 1 Axes>"
            ]
          },
          "metadata": {
            "tags": [],
            "needs_background": "light"
          }
        }
      ]
    },
    {
      "cell_type": "code",
      "metadata": {
        "colab": {
          "base_uri": "https://localhost:8080/"
        },
        "id": "a3e3LyqrwrD2",
        "outputId": "56699e5c-764e-417e-fa2d-e8358ed944d6"
      },
      "source": [
        "predicted_classes = radio_model.predict(X_test)\n",
        "print(predicted_classes.shape)"
      ],
      "execution_count": 22,
      "outputs": [
        {
          "output_type": "stream",
          "text": [
            "(32412, 11)\n"
          ],
          "name": "stdout"
        }
      ]
    },
    {
      "cell_type": "code",
      "metadata": {
        "colab": {
          "base_uri": "https://localhost:8080/"
        },
        "id": "JERm2E-H-w8H",
        "outputId": "1d735ca0-21ff-4faa-f2ac-d903636e7f45"
      },
      "source": [
        "predicted_classes1 = np.argmax(np.round(predicted_classes), axis=1)\n",
        "print(predicted_classes.shape)\n",
        "print(predicted_classes1[:11])"
      ],
      "execution_count": 23,
      "outputs": [
        {
          "output_type": "stream",
          "text": [
            "(32412, 11)\n",
            "[0 0 0 0 0 0 0 0 0 0 0]\n"
          ],
          "name": "stdout"
        }
      ]
    },
    {
      "cell_type": "code",
      "metadata": {
        "colab": {
          "base_uri": "https://localhost:8080/"
        },
        "id": "v2x13JRPa94A",
        "outputId": "d2a09288-1175-46f2-8926-d3f52e0f3bc5"
      },
      "source": [
        "predicted_classes[:5]"
      ],
      "execution_count": 24,
      "outputs": [
        {
          "output_type": "execute_result",
          "data": {
            "text/plain": [
              "array([[5.9708230e-02, 9.4855115e-02, 8.9070871e-02, 1.8851213e-01,\n",
              "        1.7732088e-01, 2.0035420e-01, 1.0720052e-01, 8.2978055e-02,\n",
              "        2.1589912e-08, 1.4074519e-08, 1.1027847e-08],\n",
              "       [5.9001796e-02, 6.8873115e-02, 7.0782207e-02, 1.7857766e-01,\n",
              "        1.6588995e-01, 1.3786368e-01, 1.7775346e-01, 1.4125787e-01,\n",
              "        9.0069690e-08, 7.3353142e-08, 5.1670465e-08],\n",
              "       [6.9479324e-02, 8.2428947e-02, 7.8907728e-02, 1.9748214e-01,\n",
              "        1.6628215e-01, 2.3839441e-01, 9.4661482e-02, 7.2363853e-02,\n",
              "        1.1622531e-10, 6.5933682e-11, 6.1994625e-11],\n",
              "       [7.2304942e-02, 7.8387544e-02, 8.5206576e-02, 2.0794541e-01,\n",
              "        1.5408245e-01, 2.5939128e-01, 7.9455756e-02, 6.3226059e-02,\n",
              "        2.6322499e-12, 1.1406237e-12, 9.0049040e-13],\n",
              "       [8.7401770e-02, 7.0274003e-02, 1.0702923e-01, 2.3121427e-01,\n",
              "        1.6753322e-01, 2.1227673e-01, 6.7311920e-02, 5.6958858e-02,\n",
              "        1.2822125e-11, 5.8292811e-12, 3.7746585e-12]], dtype=float32)"
            ]
          },
          "metadata": {
            "tags": []
          },
          "execution_count": 24
        }
      ]
    },
    {
      "cell_type": "code",
      "metadata": {
        "colab": {
          "base_uri": "https://localhost:8080/"
        },
        "id": "f8JNGgOQcpju",
        "outputId": "b3430091-a224-4f2d-da60-60d17cbc00f1"
      },
      "source": [
        "np.argmax(predicted_classes[2])"
      ],
      "execution_count": 25,
      "outputs": [
        {
          "output_type": "execute_result",
          "data": {
            "text/plain": [
              "5"
            ]
          },
          "metadata": {
            "tags": []
          },
          "execution_count": 25
        }
      ]
    },
    {
      "cell_type": "code",
      "metadata": {
        "colab": {
          "base_uri": "https://localhost:8080/"
        },
        "id": "NqFbkjQAfNfo",
        "outputId": "66865025-169a-4c8f-f4d6-5750afc6c9e4"
      },
      "source": [
        "print(trainy[:40])\n",
        "print(valy[:40])\n",
        "print(testy[:11])"
      ],
      "execution_count": 26,
      "outputs": [
        {
          "output_type": "stream",
          "text": [
            "[7, 2, 5, 4, 4, 5, 0, 3, 1, 0, 5, 6, 3, 3, 2, 2, 7, 4, 4, 5, 6, 7, 1, 1, 6, 6, 6, 5, 1, 6, 3, 2, 5, 5, 6, 2, 5, 4, 5, 5]\n",
            "[0, 0, 0, 0, 0, 0, 0, 0, 0, 0, 0, 0, 0, 0, 0, 0, 0, 0, 0, 0, 0, 0, 0, 0, 0, 0, 0, 0, 0, 0, 0, 0, 0, 0, 0, 0, 0, 0, 0, 0]\n",
            "[8, 8, 0, 0, 0, 8, 0, 8, 0, 0, 0]\n"
          ],
          "name": "stdout"
        }
      ]
    },
    {
      "cell_type": "code",
      "metadata": {
        "id": "lHo2BCqYbukr"
      },
      "source": [
        "from sklearn.metrics import confusion_matrix\n",
        "cfm = confusion_matrix(testy, predicted_classes1)"
      ],
      "execution_count": 27,
      "outputs": []
    },
    {
      "cell_type": "code",
      "metadata": {
        "id": "ovVnQgJnir_n"
      },
      "source": [
        "def plot_confusion_matrix(cm, title='Confusion matrix', cmap=plt.cm.Blues, labels=[]):\n",
        "    plt.imshow(cm, interpolation='nearest', cmap=cmap)\n",
        "    plt.title(title)\n",
        "    plt.colorbar()\n",
        "    tick_marks = np.arange(len(labels))\n",
        "    plt.xticks(tick_marks, labels, rotation=45)\n",
        "    plt.yticks(tick_marks, labels)\n",
        "    plt.tight_layout()\n",
        "    plt.ylabel('True label')\n",
        "    plt.xlabel('Predicted label')\n",
        "    plt.show()"
      ],
      "execution_count": 28,
      "outputs": []
    },
    {
      "cell_type": "code",
      "metadata": {
        "colab": {
          "base_uri": "https://localhost:8080/",
          "height": 311
        },
        "id": "JsN-7SBji0Nx",
        "outputId": "d48b6a68-f407-4805-f81f-23d2404f36c8"
      },
      "source": [
        "plot_confusion_matrix(cfm,labels = classes)"
      ],
      "execution_count": 29,
      "outputs": [
        {
          "output_type": "display_data",
          "data": {
            "image/png": "[encoded data removed]",
            "text/plain": [
              "<Figure size 432x288 with 2 Axes>"
            ]
          },
          "metadata": {
            "tags": [],
            "needs_background": "light"
          }
        }
      ]
    }
  ]
}